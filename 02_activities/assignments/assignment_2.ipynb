{
 "cells": [
  {
   "cell_type": "markdown",
   "metadata": {},
   "source": [
    "# Practice Interview\n",
    "\n",
    "## Objective\n",
    "\n",
    "_*The partner assignment aims to provide participants with the opportunity to practice coding in an interview context. You will analyze your partner's Assignment 1. Moreover, code reviews are common practice in a software development team. This assignment should give you a taste of the code review process.*_\n",
    "\n",
    "## Group Size\n",
    "\n",
    "Each group should have 2 people. You will be assigned a partner\n",
    "\n",
    "## Part 1:\n",
    "\n",
    "You and your partner must share each other's Assignment 1 submission."
   ]
  },
  {
   "cell_type": "markdown",
   "metadata": {},
   "source": [
    "\n",
    "## Part 2:\n",
    "\n",
    "Create a Jupyter Notebook, create 6 of the following headings, and complete the following for your partner's assignment 1:\n",
    "\n",
    "-   Paraphrase the problem in your own words.\n"
   ]
  },
  {
   "cell_type": "code",
   "execution_count": null,
   "metadata": {},
   "outputs": [],
   "source": [
    "# Question 3: \n",
    "# You are given a list of n integers, where each number falls within the range [0, n]. \n",
    "# The list may contain duplicate values. \n",
    "# The task is to identify and return a list of all the numbers from 0 to n that are missing from the given list. \n",
    "# If no numbers are missing, return -1.\n",
    "\n"
   ]
  },
  {
   "cell_type": "markdown",
   "metadata": {},
   "source": [
    "\n",
    "-   Create 1 new example that demonstrates you understand the problem. Trace/walkthrough 1 example that your partner made and explain it.\n"
   ]
  },
  {
   "cell_type": "code",
   "execution_count": null,
   "metadata": {},
   "outputs": [],
   "source": [
    "# Example 1:\n",
    "# nums = {1, 2, 3, 5, 7, 8, 10}\n",
    "# Since n is the length of the list, the full range should be: full_range = {0, 1, 2, 3, 4, 5, 6, 7, 8, 9, 10}\n",
    "# We compare the full range with the given list to find the missing numbers: missing_numbers = full_range - nums\n",
    "# Thus, the missing_numbers = {0, 4, 6, 9}\n",
    "\n",
    "# Example by my partner:\n",
    "# The range should include all numbers from 0 to n: {0, 1, 2, 3, 4, 5, 6, 7, 8, 9, 10}\n",
    "# The given list is {1, 2, 3, 5, 7, 8, 10}.\n",
    "# The missing numbers are {0, 4, 6, 9}"
   ]
  },
  {
   "cell_type": "markdown",
   "metadata": {},
   "source": [
    "\n",
    "-   Copy the solution your partner wrote. \n"
   ]
  },
  {
   "cell_type": "code",
   "execution_count": null,
   "metadata": {},
   "outputs": [],
   "source": [
    "# Partner's solution\n",
    "# from typing import List\n",
    "# def missing_num(nums: List) -> int:\n",
    "#   # check if the list is empty\n",
    "#   if (not nums):\n",
    "#     print(\"The input list is an empty list\")\n",
    "#     return -1;\n",
    "\n",
    "#   # save the list into a set\n",
    "#   given_nums_set = set(nums)\n",
    "#   print(f\"The given set of numbers in the list:{given_nums_set}\")\n",
    "\n",
    "#   # create a full range set, add 1 to ending number as it is excluded\n",
    "#   full_nums_set = set(range(min(nums), max(nums) + 1))\n",
    "#   print(f\"The full range set of numbers in the list:{full_nums_set}\")\n",
    "  \n",
    "#   # find the difference of the two sets\n",
    "#   missing_list_set = full_nums_set.difference(given_nums_set)\n",
    "\n",
    "#   # convert the set into a list\n",
    "#   missing_list = list(missing_list_set)\n",
    "\n",
    "#   return missing_list if missing_list else -1"
   ]
  },
  {
   "cell_type": "markdown",
   "metadata": {},
   "source": [
    "\n",
    "-   Explain why their solution works in your own words.\n"
   ]
  },
  {
   "cell_type": "code",
   "execution_count": null,
   "metadata": {},
   "outputs": [],
   "source": [
    "# 1: Handle the edge case:\n",
    "# if (not nums):\n",
    "#     print(\"The input list is an empty list\")\n",
    "#     return -1;\n",
    "# If nums is an empty list, the function immediately prints a message and returns -1 to indicate there are no numbers to check.\n",
    "# 2:  Convert Input List to a Set\n",
    "#  given_nums_set = set(nums)\n",
    "#  print(f\"The given set of numbers in the list:{given_nums_set}\")\n",
    "# 3:  Create a Full Range Set\n",
    "#  full_nums_set = set(range(min(nums), max(nums) + 1))\n",
    "#  print(f\"The full range set of numbers in the list:{full_nums_set}\")\n",
    "# The range(min(nums), max(nums) + 1) generates all numbers between the smallest and largest value in the list, ensuring we check for missing values only within this range.\n",
    "# 4:  Find the Missing Numbers\n",
    "#  missing_list_set = full_nums_set.difference(given_nums_set)\n",
    "# 5: Convert Set to List & Return\n",
    "#  missing_list = list(missing_list_set)\n",
    "#  return missing_list if missing_list else -1\n",
    "\n",
    "\n"
   ]
  },
  {
   "cell_type": "markdown",
   "metadata": {},
   "source": [
    "\n",
    "-   Explain the problem’s time and space complexity in your own words.\n"
   ]
  },
  {
   "cell_type": "code",
   "execution_count": null,
   "metadata": {},
   "outputs": [],
   "source": [
    "# Time Complexity:\n",
    "# The dominant operations are converting to sets (O(n)), finding min/max (O(n)), set difference (O(n)), and list conversion (O(m)).\n",
    "#  Total worst-case complexity: O(n).\n",
    "\n",
    "# Space Complexity:\n",
    "# The two largest sets given_nums_set and full_nums_set contribute to O(n) space.\n",
    "# The missing numbers are stored separately in missing_list_set and missing_list, which contribute O(m) space.\n",
    "# The worst-case scenario is when all numbers are unique, making O(n) + O(m) ≈ O(n)."
   ]
  },
  {
   "cell_type": "markdown",
   "metadata": {},
   "source": [
    "\n",
    "-   Critique your partner's solution, including explanation, and if there is anything that should be adjusted.\n"
   ]
  },
  {
   "cell_type": "code",
   "execution_count": null,
   "metadata": {},
   "outputs": [],
   "source": [
    "# Modify to Check Full [0, n] Range: If the goal is to check numbers missing from [0, n] instead of [min(nums), max(nums)]\n",
    "# Sort Output List for easier interpretation: return sorted(missing_list)\n"
   ]
  },
  {
   "cell_type": "markdown",
   "metadata": {},
   "source": [
    "\n",
    "## Part 3:\n",
    "\n",
    "Please write a 200 word reflection documenting your process from assignment 1, and your presentation and review experience with your partner at the bottom of the Jupyter Notebook under a new heading \"Reflection.\" Again, export this Notebook as pdf.\n"
   ]
  },
  {
   "cell_type": "markdown",
   "metadata": {},
   "source": [
    "### Reflection"
   ]
  },
  {
   "cell_type": "code",
   "execution_count": null,
   "metadata": {},
   "outputs": [],
   "source": [
    "# Reviewing the missing_num function was a great exercise in breaking down logic, understanding efficiency, and identifying improvements. I started by rewording the problem and creating a test case to ensure I am clear on the goal. Walking through an example step-by-step helped my understanding.\n",
    "\n",
    "# When analyzing time and space complexity, I broke the function into key operations—converting a list to a set, generating a range, finding the difference, and converting back to a list. It became clear that the function runs in O(n) time and O(n) space, mainly due to storing multiple sets. \n",
    "\n",
    "# This process helped my ability to critically evaluate code, elaborate complexity clearly, and suggest optimizations. It also made me more mindful of trade-offs between time efficiency and space usage. Overall, it was a great deep dive into problem-solving and algorithmic thinking."
   ]
  },
  {
   "cell_type": "markdown",
   "metadata": {},
   "source": [
    "\n",
    "## Evaluation Criteria\n",
    "\n",
    "We are looking for the similar points as Assignment 1\n",
    "\n",
    "-   Problem is accurately stated\n",
    "\n",
    "-   New example is correct and easily understandable\n",
    "\n",
    "-   Correctness, time, and space complexity of the coding solution\n",
    "\n",
    "-   Clarity in explaining why the solution works, its time and space complexity\n",
    "\n",
    "-   Quality of critique of your partner's assignment, if necessary\n"
   ]
  },
  {
   "cell_type": "markdown",
   "metadata": {},
   "source": [
    "## Submission Information\n",
    "\n",
    "🚨 **Please review our [Assignment Submission Guide](https://github.com/UofT-DSI/onboarding/blob/main/onboarding_documents/submissions.md)** 🚨 for detailed instructions on how to format, branch, and submit your work. Following these guidelines is crucial for your submissions to be evaluated correctly.\n",
    "\n",
    "### Submission Parameters:\n",
    "* Submission Due Date: `HH:MM AM/PM - DD/MM/YYYY`\n",
    "* The branch name for your repo should be: `assignment-2`\n",
    "* What to submit for this assignment:\n",
    "    * This Jupyter Notebook (assignment_2.ipynb) should be populated and should be the only change in your pull request.\n",
    "* What the pull request link should look like for this assignment: `https://github.com/<your_github_username>/algorithms_and_data_structures/pull/<pr_id>`\n",
    "    * Open a private window in your browser. Copy and paste the link to your pull request into the address bar. Make sure you can see your pull request properly. This helps the technical facilitator and learning support staff review your submission easily.\n",
    "\n",
    "Checklist:\n",
    "- [ ] Created a branch with the correct naming convention.\n",
    "- [ ] Ensured that the repository is public.\n",
    "- [ ] Reviewed the PR description guidelines and adhered to them.\n",
    "- [ ] Verify that the link is accessible in a private browser window.\n",
    "\n",
    "If you encounter any difficulties or have questions, please don't hesitate to reach out to our team via our Slack at `#cohort-3-help`. Our Technical Facilitators and Learning Support staff are here to help you navigate any challenges.\n"
   ]
  }
 ],
 "metadata": {
  "language_info": {
   "name": "python"
  }
 },
 "nbformat": 4,
 "nbformat_minor": 2
}
